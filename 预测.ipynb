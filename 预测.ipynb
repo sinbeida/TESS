{
 "cells": [
  {
   "cell_type": "code",
   "execution_count": 1,
   "metadata": {},
   "outputs": [],
   "source": [
    "import csv\n",
    "import os\n",
    "import numpy as np\n",
    "import pandas as pd\n",
    "from astropy.io import fits\n",
    "import tensorflow as tf\n",
    "import matplotlib.pyplot as plt\n",
    "from collections import Counter\n",
    "from astropy.table import Table \n",
    "import tensorflow as tf\n",
    "from scipy.interpolate import InterpolatedUnivariateSpline"
   ]
  },
  {
   "cell_type": "code",
   "execution_count": 2,
   "metadata": {},
   "outputs": [],
   "source": [
    "filekey_lst = {\n",
    "    1: (2018206045859, 120), 2: (2018234235059, 121),\n",
    "    3: (2018263035959, 123), 4: (2018292075959, 124),\n",
    "    5: (2018319095959, 125), 6: (2018349182500, 126),\n",
    "    7: (2019006130736, 131), 8: (2019032160000, 136),\n",
    "    9: (2019058134432, 139), 10: (2019085135100, 140),\n",
    "    11: (2019112060037, 143), 12: (2019140104343, 144),\n",
    "    13: (2019169103026, 146), 14: (2019198215352, 150),\n",
    "    15: (2019226182529, 151), 16: (2019253231442, 152),\n",
    "    17: (2019279210107, 161), 18: (2019306063752, 162),\n",
    "    19: (2019331140908, 164), 20: (2019357164649, 165),\n",
    "    21: (2020020091053, 167), 22: (2020049080258, 174),\n",
    "    23: (2020078014623, 177), 24: (2020106103520, 180),\n",
    "    25: (2020133194932, 182), 26: (2020160202036, 188),\n",
    "    27: (2020186164531, 189), 28: (2020212050318, 190),\n",
    "    29: (2020238165205, 193), 30: (2020266004630, 195),\n",
    "    31: (2020294194027, 198), 32: (2020324010417, 200),\n",
    "    33: (2020351194500, 203), 34: (2021014023720, 204),\n",
    "    35: (2021039152502, 205), 36: (2021065132309, 207),\n",
    "    37: (2021091135823, 208), 38: (2021118034608, 209),\n",
    "    39: (2021146024351, 210), 40: (2021175071901, 211),\n",
    "    41: (2021204101404, 212), 42: (2021232031932, 213),\n",
    "    43: (2021258175143, 214), 44: (2021284114741, 215),\n",
    "    45: (2021310001228, 216), 46: (2021336043614, 217),\n",
    "    47: (2021364111932, 218), 48: (2022027120115, 219),\n",
    "    49: (2022057073128, 221), 50: (2022085151738, 222),\n",
    "    51: (2022112184951, 223), 52: (2022138205153, 224),\n",
    "    53: (2022164095748, 226), 54: (2022190063128, 227),\n",
    "    55: (2022217014003, 242), 56: (2022244194134, 243),\n",
    "    57: (2022273165103, 245), 58: (2022302161335, 247),\n",
    "    59: (2022330142927, 248), 60: (2022357055054, 249),\n",
    "    61: (2023018032328, 250), 62: (2023043185947, 254),\n",
    "    63: (2023069172124, 255), 64: (2023096110322, 257),\n",
    "    65: (2023124020739, 259), 66: (2023153011303, 260),\n",
    "    67: (2023181235917, 261), 68: (2023209231226, 262),\n",
    "    69: (2023237165326, 264), 70: (2023263165758, 265),\n",
    "    71: (2023289093419, 266), 72: (2023315124025, 267),\n",
    "    73: (2023341045131, 268), 74: (2024003055635, 269),\n",
    "    75: (2024030031500, 270), 76: (2024058030222, 271),\n",
    "    77: (2024085201119, 272), 78: (2024114025118, 273),\n",
    "    79: (2024142205832, 274), 80: (2024170053053, 275),\n",
    "    81: (2024196212429, 276), 82: (2024223182411, 278),\n",
    "    83: (2024249191853, 280), 84: (2024274222008, 281),\n",
    "    85: (2024300212641, 282)\n",
    "}\n",
    "#以下函数返回指定的 TIC 编号的目标星在指定的 sector 中的光变曲线的文件名\n",
    "def get_lc_file(sector, tic):\n",
    "    timestamp, scid = filekey_lst[sector]\n",
    "    return 'tess{:13d}-s{:04d}-{:016d}-{:04d}-s_lc.fits'.format(timestamp, sector, tic, scid)"
   ]
  },
  {
   "cell_type": "code",
   "execution_count": 3,
   "metadata": {},
   "outputs": [],
   "source": [
    "'''\n",
    "功能：读取已预处理的数据放入模型中预测\n",
    "\n",
    "输入：扇区名，字符串形式\n",
    "输出：预测的结果,向量形式,二维\n",
    "      该扇区数据的tic名称列表\n",
    "\n",
    "'''\n",
    "def predict(sector):\n",
    "    #读取数据\n",
    "    lc = pd.read_csv('F:/tess/processedData/lc/' + sector + '.csv',header=None)\n",
    "    GLS = pd.read_csv('F:/tess/processedData/GLS/' + sector + '.csv',header=None)\n",
    "    #数据第一列存储lc的名称\n",
    "    ticLst = lc.loc[:,0]\n",
    "    #除第一列以外的数据点用来预测\n",
    "    lcData = lc.loc[:,1:]\n",
    "    GLSData = GLS.loc[:,1:]\n",
    "    \n",
    "    #转换格式，方便放入模型中\n",
    "    lcData = list(np.array(lcData))\n",
    "    lcData = tf.convert_to_tensor(lcData)\n",
    "\n",
    "    lcData = tf.expand_dims(lcData, 2)\n",
    "    GLSData = list(np.array(GLSData))\n",
    "    GLSData = tf.convert_to_tensor(GLSData)\n",
    "    GLSData = tf.expand_dims(GLSData, 2)\n",
    "    #预测\n",
    "    predArray = model.predict([lcData,GLSData])\n",
    "    #predArray = model.predict(lcData)\n",
    "    #保存预测出的各类分数\n",
    "    predData = pd.DataFrame(predArray)\n",
    "\n",
    "    return predData,ticLst"
   ]
  },
  {
   "cell_type": "code",
   "execution_count": 4,
   "metadata": {},
   "outputs": [],
   "source": [
    "'''\n",
    "功能：将模型预测出来的结果对应到各个类别\n",
    "\n",
    "输入：predData,经过模型预测后得到的结果数据\n",
    "      threshold,判定类别的阈值\n",
    "输出：predLabel,预测的类别\n",
    "      scoreLst,得到的分数\n",
    "\n",
    "'''\n",
    "def getLabel(predData,threshold):\n",
    "    predLabel = []\n",
    "    for i in range(len(predData)):\n",
    "        maxone = np.argmax(predData[i])\n",
    "        score = predData[i][maxone]\n",
    "        if score >= threshold:\n",
    "            label = label_lst[maxone]\n",
    "        if score < threshold:\n",
    "            label = 'NOTSURE'\n",
    "        predLabel.append(label)\n",
    "    return predLabel"
   ]
  },
  {
   "cell_type": "code",
   "execution_count": 5,
   "metadata": {},
   "outputs": [],
   "source": [
    "#获取已知的EB数据\n",
    "EBData = Table.read('./rawData/newclass_samples.dat', format='ascii.fixed_width_two_line')\n",
    "allTic = set(EBData['TIC'])\n",
    "#读取模型\n",
    "model = tf.keras.saving.load_model(\"./model/model1.keras\")"
   ]
  },
  {
   "cell_type": "code",
   "execution_count": 6,
   "metadata": {},
   "outputs": [],
   "source": [
    "#二分类\n",
    "def crossValidate(sec,th):\n",
    "    #如果没有做过预测，则预测，得到预测分数表\n",
    "    if(not os.path.exists('F:/tess/predict/predScore/' + sec + '.csv')):\n",
    "        predData, nameLst = predict(sec)\n",
    "        ticLst = [int(name.split(\"-\")[2]) for name in nameLst]\n",
    "        predScore = pd.concat([pd.DataFrame(ticLst),predData],axis= 1)\n",
    "        predScore.columns=[\"tic\",\"EBscore\",\"OHTERSscore\"]\n",
    "        predScore = predScore.drop_duplicates(subset='tic',keep='first').reset_index(drop=True)\n",
    "        predScore.to_csv('F:/tess/predict/predScore/' + sec + '.csv',sep=',',index=False)\n",
    "    #如果预测过，直接读取已保存的预测分数表\n",
    "    else:\n",
    "        predScore = pd.read_csv('F:/tess/predict/predScore/' + sec + '.csv')\n",
    "    #根据阈值做类别预测\n",
    "    predEBTic = set(predScore[predScore['EBscore'] >= th]['tic'])\n",
    "    trueEBTic = set(EBData[EBData[\"sector\"] == int(sec.strip('s'))]['TIC'])\n",
    "    crossEBTic = predEBTic & allTic\n",
    "    \n",
    "    print(\"--------------\" + sec + \"----------------\")\n",
    "    print(\"预测数量：{}\".format(len(predEBTic)))\n",
    "    print(\"已有数量：{}\".format(len(trueEBTic)))\n",
    "    print(\"召回数量：{}\".format(len(crossEBTic)))\n",
    "    # print(\"召回率：{:.4}\".format(len(crossEBTic)/len(trueEBTic)))\n",
    "\n",
    "    return predEBTic,trueEBTic,crossEBTic"
   ]
  },
  {
   "cell_type": "code",
   "execution_count": 7,
   "metadata": {},
   "outputs": [
    {
     "name": "stdout",
     "output_type": "stream",
     "text": [
      "812/812 [==============================] - 78s 94ms/step\n",
      "--------------s071----------------\n",
      "预测数量：482\n",
      "已有数量：0\n",
      "召回数量：93\n",
      "757/757 [==============================] - 71s 93ms/step\n",
      "--------------s072----------------\n",
      "预测数量：501\n",
      "已有数量：0\n",
      "召回数量：75\n",
      "666/666 [==============================] - 62s 92ms/step\n",
      "--------------s073----------------\n",
      "预测数量：1029\n",
      "已有数量：0\n",
      "召回数量：317\n",
      "659/659 [==============================] - 65s 98ms/step\n",
      "--------------s074----------------\n",
      "预测数量：1035\n",
      "已有数量：0\n",
      "召回数量：348\n"
     ]
    }
   ],
   "source": [
    "sectorLst = ['s071','s072','s073','s074']\n",
    "            # 's001','s002','s003','s004','s005','s006','s007','s008','s009','s010'\n",
    "            # 's011','s012','s013','s014','s015','s016','s017','s018','s019','s020'\n",
    "            # 's021','s022','s023','s024','s025','s026','s027','s028','s029','s030'\n",
    "            # 's031','s032','s033','s034','s035','s036','s037','s038','s039','s040'\n",
    "            # 's041','s042','s043','s044','s045','s046','s047','s048','s049','s050'\n",
    "            # 's051','s052','s053','s054','s055','s056','s057','s058','s059','s060'\n",
    "            # 's061','s062','s063','s064','s065','s066','s067','s068','s069','s070'\n",
    "for sec in sectorLst:\n",
    "    pred,true,cross = crossValidate(sec,0.90)"
   ]
  },
  {
   "cell_type": "code",
   "execution_count": 11,
   "metadata": {},
   "outputs": [
    {
     "name": "stdout",
     "output_type": "stream",
     "text": [
      "--------------s074----------------\n",
      "预测数量：1035\n",
      "已有数量：0\n",
      "召回数量：348\n"
     ]
    },
    {
     "name": "stderr",
     "output_type": "stream",
     "text": [
      "C:\\Users\\Administrator\\AppData\\Local\\Temp\\ipykernel_18232\\995226092.py:37: RuntimeWarning: More than 20 figures have been opened. Figures created through the pyplot interface (`matplotlib.pyplot.figure`) are retained until explicitly closed and may consume too much memory. (To control this warning, see the rcParam `figure.max_open_warning`). Consider using `matplotlib.pyplot.close()`.\n",
      "  fig = plt.figure(figsize = (40,10),dpi = 100)\n"
     ]
    }
   ],
   "source": [
    "import matplotlib\n",
    "matplotlib.use('Agg')\n",
    "\n",
    "sectorLst = ['s074']\n",
    "            # 's001','s002','s003','s004','s005','s006','s007','s008','s009','s010'\n",
    "            # 's011','s012','s013','s014','s015','s016','s017','s018','s019','s020',\n",
    "            # 's021','s022','s023','s024','s025','s026','s027','s028','s029','s030',\n",
    "            # 's031','s032','s033','s034','s035','s036','s037','s038','s039','s040']\n",
    "            # 's041','s042','s043','s044','s045','s046','s047','s048','s049','s050',\n",
    "            # 's051','s052','s053','s054','s055','s056','s057','s058','s059','s060',\n",
    "            # 's061','s062','s063','s064','s065','s066','s067','s068','s069','s070']\n",
    "            # 's072','s073','s074'\n",
    "for sec in sectorLst:\n",
    "    pred,true,cross = crossValidate(sec,0.90)\n",
    "    new = list(pred - true - cross)\n",
    "\n",
    "    #画图\n",
    "    for tic in new:\n",
    "        name = get_lc_file(int(sec.strip('s')),tic)\n",
    "        filename = 'F:/tess/lc/' + sec + '/' + name\n",
    "        table = fits.getdata(filename)\n",
    "        time = table['TIME']\n",
    "        flux = table['PDCSAP_FLUX']\n",
    "        q_lst = table['QUALITY']\n",
    "        m = q_lst == 0\n",
    "        time = time[m]\n",
    "        flux = flux[m]\n",
    "        m2 = ~np.isnan(flux)\n",
    "        t = time[m2]\n",
    "        f = flux[m2]\n",
    "\n",
    "        #文件保存的文件夹位置\n",
    "        filepath = 'F:/tess/predict/images/'+ sec\n",
    "        if not os.path.exists(filepath):\n",
    "            os.makedirs(filepath)\n",
    "        #画图保存 \n",
    "        fig = plt.figure(figsize = (40,10),dpi = 100)\n",
    "        plt.ion()\n",
    "        plt.plot(t,f,'o',color = 'C0',ms = 3,alpha = 1)\n",
    "        plt.ioff()\n",
    "        plt.savefig(filepath + '/' + str(tic) + '.png')"
   ]
  },
  {
   "cell_type": "code",
   "execution_count": 11,
   "metadata": {},
   "outputs": [
    {
     "name": "stdout",
     "output_type": "stream",
     "text": [
      "预测数量：14445\n",
      "已有数量：4225\n",
      "召回数量：4187\n",
      "召回率：0.9910059171597633\n"
     ]
    }
   ],
   "source": [
    "## 统计全部的召回率\n",
    "allPredEBTic = set()\n",
    "th = 0.90\n",
    "sectorLst = ['s001','s002','s003','s004','s005','s006','s007','s008','s009','s010',\n",
    "            's011','s012','s013','s014','s015','s016','s017','s018','s019','s020',\n",
    "            's021','s022','s023','s024','s025','s026','s027','s028','s029','s030',\n",
    "            's031','s032','s033','s034','s035','s036','s037','s038','s039','s040',\n",
    "            's041','s042','s043','s044','s045','s046','s047','s048','s049','s050',\n",
    "            's051','s052','s053','s054','s055','s056','s057','s058','s059','s060',\n",
    "            's061','s062','s063','s064','s065','s066','s067','s068','s069','s070']\n",
    "\n",
    "for sec in sectorLst:\n",
    "    predScore = pd.read_csv('F:/tess/predict/predScore/' + sec + '.csv')\n",
    "    predEBTic = set(predScore[predScore['EBscore'] >= th]['tic'])\n",
    "    allPredEBTic = allPredEBTic | predEBTic\n",
    "    \n",
    "allCrossEBTic = allPredEBTic & allTic\n",
    "\n",
    "print(\"预测数量：{}\".format(len(allPredEBTic)))\n",
    "print(\"已有数量：{}\".format(len(allTic)))\n",
    "print(\"召回数量：{}\".format(len(allCrossEBTic)))\n",
    "print(\"召回率：{}\".format(len(allCrossEBTic) / len(allTic)))"
   ]
  },
  {
   "cell_type": "code",
   "execution_count": null,
   "metadata": {},
   "outputs": [],
   "source": []
  },
  {
   "cell_type": "code",
   "execution_count": null,
   "metadata": {},
   "outputs": [],
   "source": []
  }
 ],
 "metadata": {
  "kernelspec": {
   "display_name": "Python 3.11.4 ('tensorflow')",
   "language": "python",
   "name": "python3"
  },
  "language_info": {
   "codemirror_mode": {
    "name": "ipython",
    "version": 3
   },
   "file_extension": ".py",
   "mimetype": "text/x-python",
   "name": "python",
   "nbconvert_exporter": "python",
   "pygments_lexer": "ipython3",
   "version": "3.11.4"
  },
  "orig_nbformat": 4,
  "vscode": {
   "interpreter": {
    "hash": "cae380bebe6226c23c606d6f31ea40e17fed3962063ae5af630e3d6f79419451"
   }
  }
 },
 "nbformat": 4,
 "nbformat_minor": 2
}
