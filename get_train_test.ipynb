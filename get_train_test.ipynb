{
 "cells": [
  {
   "cell_type": "code",
   "execution_count": 2,
   "metadata": {},
   "outputs": [],
   "source": [
    "import csv\n",
    "import numpy as np\n",
    "import pandas as pd\n",
    "import random\n",
    "from astropy.table import Table\n",
    "from collections import Counter\n",
    "from sklearn.model_selection import train_test_split"
   ]
  },
  {
   "cell_type": "code",
   "execution_count": 2,
   "metadata": {},
   "outputs": [
    {
     "data": {
      "text/html": [
       "<div><i>Table length=19171</i>\n",
       "<table id=\"table2801538420624\" class=\"table-striped table-bordered table-condensed\">\n",
       "<thead><tr><th>TIC</th><th>sector</th><th>class</th></tr></thead>\n",
       "<thead><tr><th>int32</th><th>int32</th><th>str2</th></tr></thead>\n",
       "<tr><td>91961</td><td>11</td><td>EA</td></tr>\n",
       "<tr><td>120016</td><td>11</td><td>EW</td></tr>\n",
       "<tr><td>120016</td><td>38</td><td>EW</td></tr>\n",
       "<tr><td>627436</td><td>5</td><td>EW</td></tr>\n",
       "<tr><td>627436</td><td>32</td><td>EW</td></tr>\n",
       "<tr><td>671564</td><td>5</td><td>EW</td></tr>\n",
       "<tr><td>737546</td><td>5</td><td>EA</td></tr>\n",
       "<tr><td>862763</td><td>34</td><td>EA</td></tr>\n",
       "<tr><td>927554</td><td>34</td><td>EA</td></tr>\n",
       "<tr><td>1045298</td><td>4</td><td>EB</td></tr>\n",
       "<tr><td>...</td><td>...</td><td>...</td></tr>\n",
       "<tr><td>1981621672</td><td>23</td><td>EW</td></tr>\n",
       "<tr><td>1981621672</td><td>24</td><td>EW</td></tr>\n",
       "<tr><td>1981621672</td><td>25</td><td>EW</td></tr>\n",
       "<tr><td>1981621672</td><td>26</td><td>EW</td></tr>\n",
       "<tr><td>1992266045</td><td>28</td><td>EA</td></tr>\n",
       "<tr><td>2045772593</td><td>24</td><td>EA</td></tr>\n",
       "<tr><td>2046417955</td><td>16</td><td>EB</td></tr>\n",
       "<tr><td>2046417955</td><td>17</td><td>EB</td></tr>\n",
       "<tr><td>2046417955</td><td>57</td><td>EB</td></tr>\n",
       "<tr><td>2053213344</td><td>42</td><td>EB</td></tr>\n",
       "</table></div>"
      ],
      "text/plain": [
       "<Table length=19171>\n",
       "   TIC     sector class\n",
       "  int32    int32   str2\n",
       "---------- ------ -----\n",
       "     91961     11    EA\n",
       "    120016     11    EW\n",
       "    120016     38    EW\n",
       "    627436      5    EW\n",
       "    627436     32    EW\n",
       "    671564      5    EW\n",
       "    737546      5    EA\n",
       "    862763     34    EA\n",
       "    927554     34    EA\n",
       "   1045298      4    EB\n",
       "       ...    ...   ...\n",
       "1981621672     23    EW\n",
       "1981621672     24    EW\n",
       "1981621672     25    EW\n",
       "1981621672     26    EW\n",
       "1992266045     28    EA\n",
       "2045772593     24    EA\n",
       "2046417955     16    EB\n",
       "2046417955     17    EB\n",
       "2046417955     57    EB\n",
       "2053213344     42    EB"
      ]
     },
     "execution_count": 2,
     "metadata": {},
     "output_type": "execute_result"
    }
   ],
   "source": [
    "#读取EBdata\n",
    "EBData = Table.read('./rawData/newclass_samples.dat', format='ascii.fixed_width_two_line')\n",
    "EBData"
   ]
  },
  {
   "cell_type": "markdown",
   "metadata": {},
   "source": [
    "# 获取训练样本-非EB"
   ]
  },
  {
   "cell_type": "code",
   "execution_count": null,
   "metadata": {},
   "outputs": [],
   "source": [
    "filekey_lst = {\n",
    "    1: (2018206045859, 120), 2: (2018234235059, 121),\n",
    "    3: (2018263035959, 123), 4: (2018292075959, 124),\n",
    "    5: (2018319095959, 125), 6: (2018349182500, 126),\n",
    "    7: (2019006130736, 131), 8: (2019032160000, 136),\n",
    "    9: (2019058134432, 139), 10: (2019085135100, 140),\n",
    "    11: (2019112060037, 143), 12: (2019140104343, 144),\n",
    "    13: (2019169103026, 146), 14: (2019198215352, 150),\n",
    "    15: (2019226182529, 151), 16: (2019253231442, 152),\n",
    "    17: (2019279210107, 161), 18: (2019306063752, 162),\n",
    "    19: (2019331140908, 164), 20: (2019357164649, 165),\n",
    "    21: (2020020091053, 167), 22: (2020049080258, 174),\n",
    "    23: (2020078014623, 177), 24: (2020106103520, 180),\n",
    "    25: (2020133194932, 182), 26: (2020160202036, 188),\n",
    "    27: (2020186164531, 189), 28: (2020212050318, 190),\n",
    "    29: (2020238165205, 193), 30: (2020266004630, 195),\n",
    "    31: (2020294194027, 198), 32: (2020324010417, 200),\n",
    "    33: (2020351194500, 203), 34: (2021014023720, 204),\n",
    "    35: (2021039152502, 205), 36: (2021065132309, 207),\n",
    "    37: (2021091135823, 208), 38: (2021118034608, 209),\n",
    "    39: (2021146024351, 210), 40: (2021175071901, 211),\n",
    "    41: (2021204101404, 212), 42: (2021232031932, 213),\n",
    "    43: (2021258175143, 214), 44: (2021284114741, 215),\n",
    "    45: (2021310001228, 216), 46: (2021336043614, 217),\n",
    "    47: (2021364111932, 218), 48: (2022027120115, 219),\n",
    "    49: (2022057073128, 221), 50: (2022085151738, 222),\n",
    "    51: (2022112184951, 223), 52: (2022138205153, 224),\n",
    "    53: (2022164095748, 226), 54: (2022190063128, 227),\n",
    "    55: (2022217014003, 242), 56: (2022244194134, 243),\n",
    "    57: (2022273165103, 245), 58: (2022302161335, 247),\n",
    "    59: (2022330142927, 248), 60: (2022357055054, 249),\n",
    "    61: (2023018032328, 250), 62: (2023043185947, 254),\n",
    "    63: (2023069172124, 255), 64: (2023096110322, 257)\n",
    "}\n",
    "#以下函数返回指定的 TIC 编号的目标星在指定的 sector 中的光变曲线的文件名\n",
    "def get_lc_file(sector, tic):\n",
    "    timestamp, scid = filekey_lst[sector]\n",
    "    return 'tess{:13d}-s{:04d}-{:016d}-{:04d}-s_lc.fits'.format(timestamp, sector, tic, scid)"
   ]
  },
  {
   "cell_type": "code",
   "execution_count": null,
   "metadata": {},
   "outputs": [],
   "source": [
    "#用字典保存每个扇区下的EB的tic\n",
    "ebNameDict = {}\n",
    "for data in EBData:\n",
    "    sector = data['sector']\n",
    "    tic = data['TIC']\n",
    "    name = get_lc_file(sector, tic)\n",
    "    if sector not in ebNameDict:\n",
    "        ebNameDict[sector] = [name]\n",
    "    else:\n",
    "        ebNameDict[sector].append(name)"
   ]
  },
  {
   "cell_type": "code",
   "execution_count": null,
   "metadata": {},
   "outputs": [],
   "source": [
    "#删除某扇区数据中的EB数据\n",
    "def dropEB(secData,ebName):\n",
    "    return secData.set_index(0).drop(ebName).reset_index().drop([0],axis = 1)"
   ]
  },
  {
   "cell_type": "code",
   "execution_count": null,
   "metadata": {},
   "outputs": [],
   "source": [
    "sectorLst = ['s010',\n",
    "              's011','s012','s013','s014','s015','s016','s017','s018','s019','s020',\n",
    "              's021','s022','s023','s024','s025','s026','s027','s028','s029','s030',\n",
    "              's031','s032','s033','s034','s035','s036','s037','s038','s039','s040',\n",
    "              's041','s042','s043','s044','s045','s046','s047','s048','s049','s050',\n",
    "              's051','s052','s053','s054','s055','s056','s057','s058','s059','s060',\n",
    "              's061','s062','s063','s064']\n",
    "secNum = 1000  #每个扇区选择非eb数据的数量\n",
    "\n",
    "for sec in sectorLst:\n",
    "    lc = pd.read_csv('F:/tess/processedData/lc/'+sec+'.csv',header=None)\n",
    "    GLS = pd.read_csv('F:/tess/processedData/GLS/'+sec+'.csv',header=None)\n",
    "\n",
    "    #获得该扇区下的EBname\n",
    "    ebName = ebNameDict[int(sec.strip('s'))]\n",
    "    #去除EB后的lc和GLS数据\n",
    "    newlc = dropEB(lc,ebName)\n",
    "    newlc = newlc.sample(n=secNum, random_state=1)\n",
    "    newGLS = dropEB(GLS,ebName)\n",
    "    newGLS = newGLS.sample(n=secNum, random_state=1)\n",
    "\n",
    "    #将去除eb后的新数据保存\n",
    "    newlc.to_csv('F:/tess/processedData/非EB/lc/' + sec + '.csv',header=False,index = False)\n",
    "    newGLS.to_csv('F:/tess/processedData/非EB/GLS/' + sec + '.csv',header=False,index = False)\n"
   ]
  },
  {
   "cell_type": "markdown",
   "metadata": {},
   "source": [
    "# 构造训练集和测试集"
   ]
  },
  {
   "cell_type": "markdown",
   "metadata": {},
   "source": [
    "## lc"
   ]
  },
  {
   "cell_type": "code",
   "execution_count": 5,
   "metadata": {},
   "outputs": [],
   "source": [
    "allLabel = []  #所有标签列表\n",
    "allData = pd.DataFrame()\n",
    "\n",
    "#EB数据\n",
    "for label in ['EA','EB','EW','BY','DSCT','GDOR','M','RRAB','RRC','ELL']:\n",
    "    data = pd.read_csv('./processedData_4000/'+label+'.csv',header = None)\n",
    "    if label == 'EA':\n",
    "        allData = pd.concat([allData,data])\n",
    "        allLabel = allLabel + [0]*len(data)\n",
    "    elif label == 'EB':\n",
    "        allData = pd.concat([allData,data])\n",
    "        allLabel = allLabel + [0]*len(data)\n",
    "    elif label == 'EW':\n",
    "        allData = pd.concat([allData,data])\n",
    "        allLabel = allLabel + [0]*len(data)\n",
    "    else:\n",
    "        allData = pd.concat([allData,data])\n",
    "        allLabel = allLabel + [1]*len(data)\n",
    "\n",
    "#OTHERS数据\n",
    "sectorLst = ['s001','s002','s003','s004','s005','s006','s007','s008','s009','s010',\n",
    "            's011','s012','s013','s014','s015','s016','s017','s018','s019','s020',\n",
    "            's021','s022','s023','s024','s025','s026','s027','s028','s029','s030',\n",
    "            's031','s032','s033','s034','s035','s036','s037','s038','s039','s040',\n",
    "            's041','s042','s043','s044','s045','s046','s047','s048','s049','s050',\n",
    "            's051','s052','s053','s054','s055','s056','s057','s058','s059','s060',\n",
    "            's061','s062','s063','s064']\n",
    "for sec in sectorLst:\n",
    "    data = pd.read_csv('F:/tess/processedData/非EB/lc/'+sec+'.csv',header = None).sample(n = 430,random_state = 22)\n",
    "    allData = pd.concat([allData,data])\n",
    "    allLabel = allLabel + [1]*len(data)\n",
    "\n",
    "fluxData = np.array(allData)\n",
    "fluxLabel = np.array(allLabel)\n"
   ]
  },
  {
   "cell_type": "markdown",
   "metadata": {},
   "source": [
    "## gls"
   ]
  },
  {
   "cell_type": "code",
   "execution_count": 6,
   "metadata": {},
   "outputs": [],
   "source": [
    "allLabel = []  #所有标签列表\n",
    "allData = pd.DataFrame()\n",
    "\n",
    "#EB数据\n",
    "for label in ['EA','EB','EW','BY','DSCT','GDOR','M','RRAB','RRC','ELL']:\n",
    "    data = pd.read_csv('./GLSdata_1000/'+label+'.csv',header = None)\n",
    "    if label == 'EA':\n",
    "        allData = pd.concat([allData,data])\n",
    "        allLabel = allLabel + [0]*len(data)\n",
    "    elif label == 'EB':\n",
    "        allData = pd.concat([allData,data])\n",
    "        allLabel = allLabel + [0]*len(data)\n",
    "    elif label == 'EW':\n",
    "        allData = pd.concat([allData,data])\n",
    "        allLabel = allLabel + [0]*len(data)\n",
    "    else:\n",
    "        allData = pd.concat([allData,data])\n",
    "        allLabel = allLabel + [1]*len(data)\n",
    "\n",
    "\n",
    "#OTHERS数据\n",
    "sectorLst = ['s001','s002','s003','s004','s005','s006','s007','s008','s009','s010',\n",
    "            's011','s012','s013','s014','s015','s016','s017','s018','s019','s020',\n",
    "            's021','s022','s023','s024','s025','s026','s027','s028','s029','s030',\n",
    "            's031','s032','s033','s034','s035','s036','s037','s038','s039','s040',\n",
    "            's041','s042','s043','s044','s045','s046','s047','s048','s049','s050',\n",
    "            's051','s052','s053','s054','s055','s056','s057','s058','s059','s060',\n",
    "            's061','s062','s063','s064']\n",
    "for sec in sectorLst:\n",
    "    data = pd.read_csv('F:/tess/processedData/非EB/GLS/'+sec+'.csv',header = None).sample(n = 430,random_state = 22)\n",
    "    allData = pd.concat([allData,data])\n",
    "    allLabel = allLabel + [1]*len(data)\n",
    "\n",
    "GLSData = np.array(allData)\n",
    "GLSLabel = np.array(allLabel)"
   ]
  },
  {
   "cell_type": "markdown",
   "metadata": {},
   "source": [
    "## split"
   ]
  },
  {
   "cell_type": "code",
   "execution_count": 12,
   "metadata": {},
   "outputs": [
    {
     "name": "stdout",
     "output_type": "stream",
     "text": [
      "所有数据中的类别数量情况：Counter({1: 36810, 0: 36651})\n",
      "训练集中的类别数量情况：Counter({1: 29441, 0: 29327})\n",
      "测试集中的类别数量情况：Counter({1: 7369, 0: 7324})\n"
     ]
    }
   ],
   "source": [
    "print('所有数据中的类别数量情况：{}'.format(Counter(fluxLabel)))\n",
    "f_trainX, f_testX, f_trainY, f_testY = train_test_split(fluxData, fluxLabel, test_size=0.2, random_state=10)\n",
    "g_trainX, g_testX, g_trainY, g_testY = train_test_split(GLSData, GLSLabel, test_size=0.2, random_state=10)\n",
    "\n",
    "print('训练集中的类别数量情况：{}'.format(Counter(f_trainY)))\n",
    "print('测试集中的类别数量情况：{}'.format(Counter(f_testY)))"
   ]
  },
  {
   "cell_type": "markdown",
   "metadata": {},
   "source": [
    "## save"
   ]
  },
  {
   "cell_type": "code",
   "execution_count": 7,
   "metadata": {},
   "outputs": [],
   "source": [
    "def save(data,fileName):\n",
    "    df = pd.DataFrame(data)\n",
    "    df.to_csv('./train_test_data/' + fileName +'.csv', index=False, header=None)"
   ]
  },
  {
   "cell_type": "code",
   "execution_count": 8,
   "metadata": {},
   "outputs": [],
   "source": [
    "save(fluxData,'lc_X')\n",
    "save(fluxLabel,'lc_Y')\n",
    "save(GLSData,'gls_X')\n",
    "save(GLSLabel,'gls_Y')"
   ]
  },
  {
   "cell_type": "code",
   "execution_count": 38,
   "metadata": {},
   "outputs": [],
   "source": [
    "save(f_trainX,'lc_trainX')\n",
    "save(f_testX,'lc_testX')\n",
    "save(f_trainY,'lc_trainY')\n",
    "save(f_testY,'lc_testY')\n",
    "save(g_trainX,'gls_trainX')\n",
    "save(g_testX,'gls_testX')\n",
    "save(g_trainY,'gls_trainY')\n",
    "save(g_testY,'gls_testY')\n"
   ]
  }
 ],
 "metadata": {
  "kernelspec": {
   "display_name": "Python 3.11.4 ('tensorflow')",
   "language": "python",
   "name": "python3"
  },
  "language_info": {
   "codemirror_mode": {
    "name": "ipython",
    "version": 3
   },
   "file_extension": ".py",
   "mimetype": "text/x-python",
   "name": "python",
   "nbconvert_exporter": "python",
   "pygments_lexer": "ipython3",
   "version": "3.11.4"
  },
  "orig_nbformat": 4,
  "vscode": {
   "interpreter": {
    "hash": "cae380bebe6226c23c606d6f31ea40e17fed3962063ae5af630e3d6f79419451"
   }
  }
 },
 "nbformat": 4,
 "nbformat_minor": 2
}
